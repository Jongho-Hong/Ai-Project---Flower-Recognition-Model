{
  "nbformat": 4,
  "nbformat_minor": 0,
  "metadata": {
    "colab": {
      "provenance": []
    },
    "kernelspec": {
      "name": "python3",
      "display_name": "Python 3"
    },
    "language_info": {
      "name": "python"
    },
    "accelerator": "GPU",
    "gpuClass": "standard"
  },
  "cells": [
    {
      "cell_type": "code",
      "execution_count": 1,
      "metadata": {
        "id": "5xTKL4PyOHiL",
        "colab": {
          "base_uri": "https://localhost:8080/"
        },
        "outputId": "da27ea4d-e6d7-47d2-c97f-bdff00beea42"
      },
      "outputs": [
        {
          "output_type": "stream",
          "name": "stdout",
          "text": [
            "Mounted at /content/drive\n"
          ]
        }
      ],
      "source": [
        "from google.colab import drive\n",
        "drive.mount('/content/drive')"
      ]
    },
    {
      "cell_type": "code",
      "source": [
        "import os\n"
      ],
      "metadata": {
        "id": "gvQH-T_g5BMf"
      },
      "execution_count": 2,
      "outputs": []
    },
    {
      "cell_type": "code",
      "source": [
        "# 수정된 디렉토리\n",
        "train_healthy_dir = '/content/drive/MyDrive/AI+X/tip burn/dataset/CNN dataset/train/healthy'\n",
        "train_tipburn_dir = '/content/drive/MyDrive/AI+X/tip burn/dataset/CNN dataset/train/tipburn'\n",
        "val_healthy_dir = '/content/drive/MyDrive/AI+X/tip burn/dataset/CNN dataset/val/healthy'\n",
        "val_tipburn_dir = '/content/drive/MyDrive/AI+X/tip burn/dataset/CNN dataset/val/tipburn'\n",
        "test_healthy_dir = '/content/drive/MyDrive/AI+X/tip burn/dataset/CNN dataset/test/healthy'\n",
        "test_tipburn_dir = '/content/drive/MyDrive/AI+X/tip burn/dataset/CNN dataset/test/tipburn'"
      ],
      "metadata": {
        "id": "mwXCE4u4zXUI"
      },
      "execution_count": 3,
      "outputs": []
    },
    {
      "cell_type": "code",
      "source": [
        "print('훈련용 건강 이미지 전체 개수:',len(os.listdir(train_healthy_dir)))\n",
        "print('훈련용 팁번 이미지 전체 개수:',len(os.listdir(train_tipburn_dir)))\n",
        "print('검증용 건강 이미지 전체 개수:',len(os.listdir(val_healthy_dir)))\n",
        "print('검증용 팁번 이미지 전체 개수:',len(os.listdir(val_tipburn_dir)))\n",
        "print('테스트용 건강 이미지 전체 개수:',len(os.listdir(test_healthy_dir)))\n",
        "print('테스트용 팁번 이미지 전체 개수:',len(os.listdir(test_tipburn_dir)))"
      ],
      "metadata": {
        "colab": {
          "base_uri": "https://localhost:8080/"
        },
        "id": "_3nSPm_G1QNg",
        "outputId": "808de208-7734-449e-c7c9-9b644b24e371"
      },
      "execution_count": 4,
      "outputs": [
        {
          "output_type": "stream",
          "name": "stdout",
          "text": [
            "훈련용 건강 이미지 전체 개수: 443\n",
            "훈련용 팁번 이미지 전체 개수: 568\n",
            "검증용 건강 이미지 전체 개수: 124\n",
            "검증용 팁번 이미지 전체 개수: 160\n",
            "테스트용 건강 이미지 전체 개수: 59\n",
            "테스트용 팁번 이미지 전체 개수: 77\n"
          ]
        }
      ]
    },
    {
      "cell_type": "code",
      "source": [
        "train_dir = '/content/drive/MyDrive/AI+X/tip burn/dataset/CNN dataset/train'\n",
        "val_dir = '/content/drive/MyDrive/AI+X/tip burn/dataset/CNN dataset/val'\n",
        "test_dir = '/content/drive/MyDrive/AI+X/tip burn/dataset/CNN dataset/test'"
      ],
      "metadata": {
        "id": "lJ9utixA4Thu"
      },
      "execution_count": 5,
      "outputs": []
    },
    {
      "cell_type": "code",
      "source": [
        "# 데이터 전처리\n",
        "from keras.preprocessing.image import ImageDataGenerator\n",
        "\n",
        "# 모든 이미지를 1/255로 스케일 조정\n",
        "train_datagen = ImageDataGenerator(rescale=1./255)\n",
        "test_datagen = ImageDataGenerator(rescale=1./255)\n",
        "\n",
        "train_generator = train_datagen.flow_from_directory(\n",
        "        # 타깃 디렉터리\n",
        "        train_dir,\n",
        "        # 모든 이미지를 150 × 150 크기로\n",
        "        target_size=(150, 150),\n",
        "        batch_size=20,\n",
        "        # binary_crossentropy 손실을 사용하기 때문에 이진 레이블이 필요하다\n",
        "        class_mode='binary')\n",
        "\n",
        "validation_generator = test_datagen.flow_from_directory(\n",
        "        val_dir,\n",
        "        target_size=(150, 150),\n",
        "        batch_size=20,\n",
        "        class_mode='binary')"
      ],
      "metadata": {
        "colab": {
          "base_uri": "https://localhost:8080/"
        },
        "id": "OUpjSHu13HAK",
        "outputId": "b643ceee-23eb-45a9-9011-8392bba46922"
      },
      "execution_count": 6,
      "outputs": [
        {
          "output_type": "stream",
          "name": "stdout",
          "text": [
            "Found 1011 images belonging to 2 classes.\n",
            "Found 284 images belonging to 2 classes.\n"
          ]
        }
      ]
    },
    {
      "cell_type": "code",
      "source": [
        "for data_batch, labels_batch in train_generator:\n",
        "    print('배치 데이터 크기:', data_batch.shape)\n",
        "    print('배치 레이블 크기:', labels_batch.shape)\n",
        "    break"
      ],
      "metadata": {
        "colab": {
          "base_uri": "https://localhost:8080/"
        },
        "id": "70xucKz34lMh",
        "outputId": "513549eb-201c-40f0-eac2-027703ee446b"
      },
      "execution_count": 7,
      "outputs": [
        {
          "output_type": "stream",
          "name": "stdout",
          "text": [
            "배치 데이터 크기: (20, 150, 150, 3)\n",
            "배치 레이블 크기: (20,)\n"
          ]
        }
      ]
    },
    {
      "cell_type": "code",
      "source": [
        "# 모델 구성\n",
        "\n",
        "from keras import layers\n",
        "from keras import models\n",
        "\n",
        "model = models.Sequential()\n",
        "model.add(layers.Conv2D(32, (3, 3), activation='relu',\n",
        "                        input_shape=(150, 150, 3)))\n",
        "model.add(layers.MaxPooling2D((2, 2)))\n",
        "model.add(layers.Conv2D(64, (3, 3), activation='relu'))\n",
        "model.add(layers.MaxPooling2D((2, 2)))\n",
        "model.add(layers.Conv2D(128, (3, 3), activation='relu'))\n",
        "model.add(layers.MaxPooling2D((2, 2)))\n",
        "model.add(layers.Conv2D(128, (3, 3), activation='relu'))\n",
        "model.add(layers.MaxPooling2D((2, 2)))\n",
        "model.add(layers.Flatten())\n",
        "model.add(layers.Dense(512, activation='relu'))\n",
        "model.add(layers.Dense(1, activation='sigmoid'))"
      ],
      "metadata": {
        "id": "1kvlToPw2c92"
      },
      "execution_count": 8,
      "outputs": []
    },
    {
      "cell_type": "code",
      "source": [
        "model.summary()"
      ],
      "metadata": {
        "colab": {
          "base_uri": "https://localhost:8080/"
        },
        "id": "kAq8wj4T5UWM",
        "outputId": "1e88ff54-3170-443a-d2ed-222e5fa4e977"
      },
      "execution_count": 9,
      "outputs": [
        {
          "output_type": "stream",
          "name": "stdout",
          "text": [
            "Model: \"sequential\"\n",
            "_________________________________________________________________\n",
            " Layer (type)                Output Shape              Param #   \n",
            "=================================================================\n",
            " conv2d (Conv2D)             (None, 148, 148, 32)      896       \n",
            "                                                                 \n",
            " max_pooling2d (MaxPooling2D  (None, 74, 74, 32)       0         \n",
            " )                                                               \n",
            "                                                                 \n",
            " conv2d_1 (Conv2D)           (None, 72, 72, 64)        18496     \n",
            "                                                                 \n",
            " max_pooling2d_1 (MaxPooling  (None, 36, 36, 64)       0         \n",
            " 2D)                                                             \n",
            "                                                                 \n",
            " conv2d_2 (Conv2D)           (None, 34, 34, 128)       73856     \n",
            "                                                                 \n",
            " max_pooling2d_2 (MaxPooling  (None, 17, 17, 128)      0         \n",
            " 2D)                                                             \n",
            "                                                                 \n",
            " conv2d_3 (Conv2D)           (None, 15, 15, 128)       147584    \n",
            "                                                                 \n",
            " max_pooling2d_3 (MaxPooling  (None, 7, 7, 128)        0         \n",
            " 2D)                                                             \n",
            "                                                                 \n",
            " flatten (Flatten)           (None, 6272)              0         \n",
            "                                                                 \n",
            " dense (Dense)               (None, 512)               3211776   \n",
            "                                                                 \n",
            " dense_1 (Dense)             (None, 1)                 513       \n",
            "                                                                 \n",
            "=================================================================\n",
            "Total params: 3,453,121\n",
            "Trainable params: 3,453,121\n",
            "Non-trainable params: 0\n",
            "_________________________________________________________________\n"
          ]
        }
      ]
    },
    {
      "cell_type": "code",
      "source": [
        "from keras import optimizers\n",
        "\n",
        "model.compile(loss='binary_crossentropy',\n",
        "              optimizer=optimizers.RMSprop(lr=1e-4),\n",
        "              metrics=['acc'])"
      ],
      "metadata": {
        "colab": {
          "base_uri": "https://localhost:8080/"
        },
        "id": "QDYcBZFc5Vwn",
        "outputId": "7ae9c101-7382-4d3f-9851-c569040df94a"
      },
      "execution_count": 10,
      "outputs": [
        {
          "output_type": "stream",
          "name": "stderr",
          "text": [
            "/usr/local/lib/python3.7/dist-packages/keras/optimizers/optimizer_v2/rmsprop.py:135: UserWarning: The `lr` argument is deprecated, use `learning_rate` instead.\n",
            "  super(RMSprop, self).__init__(name, **kwargs)\n"
          ]
        }
      ]
    },
    {
      "cell_type": "code",
      "source": [
        "history = model.fit(\n",
        "      train_generator,\n",
        "      steps_per_epoch=20,\n",
        "      epochs=20,\n",
        "      validation_data=validation_generator,\n",
        "      validation_steps=10)"
      ],
      "metadata": {
        "colab": {
          "base_uri": "https://localhost:8080/"
        },
        "id": "AoBnBdD-5tzL",
        "outputId": "9d887533-bdd7-409c-bfab-2f18e28204ee"
      },
      "execution_count": 11,
      "outputs": [
        {
          "output_type": "stream",
          "name": "stdout",
          "text": [
            "Epoch 1/20\n",
            "20/20 [==============================] - 511s 26s/step - loss: 0.6533 - acc: 0.5825 - val_loss: 0.6191 - val_acc: 0.5350\n",
            "Epoch 2/20\n",
            "20/20 [==============================] - 308s 16s/step - loss: 0.5909 - acc: 0.6829 - val_loss: 0.4999 - val_acc: 0.7550\n",
            "Epoch 3/20\n",
            "20/20 [==============================] - 263s 13s/step - loss: 0.5521 - acc: 0.7275 - val_loss: 0.4427 - val_acc: 0.9300\n",
            "Epoch 4/20\n",
            "20/20 [==============================] - 233s 12s/step - loss: 0.4710 - acc: 0.8050 - val_loss: 0.4767 - val_acc: 0.7550\n",
            "Epoch 5/20\n",
            "20/20 [==============================] - 211s 11s/step - loss: 0.4168 - acc: 0.8175 - val_loss: 0.4700 - val_acc: 0.7300\n",
            "Epoch 6/20\n",
            "20/20 [==============================] - 213s 11s/step - loss: 0.4065 - acc: 0.8525 - val_loss: 0.2985 - val_acc: 0.9050\n",
            "Epoch 7/20\n",
            "20/20 [==============================] - 204s 10s/step - loss: 0.3726 - acc: 0.8350 - val_loss: 0.2651 - val_acc: 0.9300\n",
            "Epoch 8/20\n",
            "20/20 [==============================] - 198s 10s/step - loss: 0.4117 - acc: 0.8025 - val_loss: 0.3052 - val_acc: 0.9000\n",
            "Epoch 9/20\n",
            "20/20 [==============================] - 199s 10s/step - loss: 0.3659 - acc: 0.8491 - val_loss: 0.2812 - val_acc: 0.8850\n",
            "Epoch 10/20\n",
            "20/20 [==============================] - 203s 10s/step - loss: 0.3562 - acc: 0.8400 - val_loss: 0.3498 - val_acc: 0.8450\n",
            "Epoch 11/20\n",
            "20/20 [==============================] - 202s 10s/step - loss: 0.3668 - acc: 0.8225 - val_loss: 0.2671 - val_acc: 0.9100\n",
            "Epoch 12/20\n",
            "20/20 [==============================] - 199s 10s/step - loss: 0.3658 - acc: 0.8338 - val_loss: 0.2780 - val_acc: 0.9250\n",
            "Epoch 13/20\n",
            "20/20 [==============================] - 196s 10s/step - loss: 0.3262 - acc: 0.8568 - val_loss: 0.2691 - val_acc: 0.9050\n",
            "Epoch 14/20\n",
            "20/20 [==============================] - 202s 10s/step - loss: 0.3500 - acc: 0.8325 - val_loss: 0.2232 - val_acc: 0.9500\n",
            "Epoch 15/20\n",
            "20/20 [==============================] - 201s 10s/step - loss: 0.2953 - acc: 0.8700 - val_loss: 0.2165 - val_acc: 0.9450\n",
            "Epoch 16/20\n",
            "20/20 [==============================] - 197s 10s/step - loss: 0.3266 - acc: 0.8363 - val_loss: 0.2439 - val_acc: 0.9450\n",
            "Epoch 17/20\n",
            "20/20 [==============================] - 199s 10s/step - loss: 0.2858 - acc: 0.8824 - val_loss: 0.3981 - val_acc: 0.8200\n",
            "Epoch 18/20\n",
            "20/20 [==============================] - 198s 10s/step - loss: 0.2828 - acc: 0.8772 - val_loss: 0.3577 - val_acc: 0.8300\n",
            "Epoch 19/20\n",
            "20/20 [==============================] - 200s 10s/step - loss: 0.2789 - acc: 0.8725 - val_loss: 0.2947 - val_acc: 0.8550\n",
            "Epoch 20/20\n",
            "20/20 [==============================] - 196s 10s/step - loss: 0.2621 - acc: 0.8875 - val_loss: 0.3903 - val_acc: 0.8000\n"
          ]
        }
      ]
    },
    {
      "cell_type": "code",
      "source": [
        "from keras.models import load_model\n",
        "model.save('/content/drive/MyDrive/AI+X/tip burn/model/model.h5')"
      ],
      "metadata": {
        "id": "vJXWE4Mq6UHD"
      },
      "execution_count": 12,
      "outputs": []
    },
    {
      "cell_type": "code",
      "source": [
        "from keras.models import load_model\n",
        "model = load_model('/content/drive/MyDrive/AI+X/tip burn/model/model.h5')\n",
        "model.summary()"
      ],
      "metadata": {
        "colab": {
          "base_uri": "https://localhost:8080/"
        },
        "id": "2krZ2aR2Ikcp",
        "outputId": "64b4be91-0e78-4e73-d067-0be64927e138"
      },
      "execution_count": 13,
      "outputs": [
        {
          "output_type": "stream",
          "name": "stdout",
          "text": [
            "Model: \"sequential\"\n",
            "_________________________________________________________________\n",
            " Layer (type)                Output Shape              Param #   \n",
            "=================================================================\n",
            " conv2d (Conv2D)             (None, 148, 148, 32)      896       \n",
            "                                                                 \n",
            " max_pooling2d (MaxPooling2D  (None, 74, 74, 32)       0         \n",
            " )                                                               \n",
            "                                                                 \n",
            " conv2d_1 (Conv2D)           (None, 72, 72, 64)        18496     \n",
            "                                                                 \n",
            " max_pooling2d_1 (MaxPooling  (None, 36, 36, 64)       0         \n",
            " 2D)                                                             \n",
            "                                                                 \n",
            " conv2d_2 (Conv2D)           (None, 34, 34, 128)       73856     \n",
            "                                                                 \n",
            " max_pooling2d_2 (MaxPooling  (None, 17, 17, 128)      0         \n",
            " 2D)                                                             \n",
            "                                                                 \n",
            " conv2d_3 (Conv2D)           (None, 15, 15, 128)       147584    \n",
            "                                                                 \n",
            " max_pooling2d_3 (MaxPooling  (None, 7, 7, 128)        0         \n",
            " 2D)                                                             \n",
            "                                                                 \n",
            " flatten (Flatten)           (None, 6272)              0         \n",
            "                                                                 \n",
            " dense (Dense)               (None, 512)               3211776   \n",
            "                                                                 \n",
            " dense_1 (Dense)             (None, 1)                 513       \n",
            "                                                                 \n",
            "=================================================================\n",
            "Total params: 3,453,121\n",
            "Trainable params: 3,453,121\n",
            "Non-trainable params: 0\n",
            "_________________________________________________________________\n"
          ]
        }
      ]
    },
    {
      "cell_type": "code",
      "source": [
        "import matplotlib.pyplot as plt\n",
        "\n",
        "acc = history.history['acc']\n",
        "val_acc = history.history['val_acc']\n",
        "loss = history.history['loss']\n",
        "val_loss = history.history['val_loss']\n",
        "\n",
        "epochs = range(len(acc))\n",
        "\n",
        "plt.plot(epochs, acc, 'bo', label='Training acc')\n",
        "plt.plot(epochs, val_acc, 'b', label='Validation acc')\n",
        "plt.title('Training and validation accuracy')\n",
        "plt.legend()\n",
        "\n",
        "plt.figure()\n",
        "\n",
        "plt.plot(epochs, loss, 'bo', label='Training loss')\n",
        "plt.plot(epochs, val_loss, 'b', label='Validation loss')\n",
        "plt.title('Training and validation loss')\n",
        "plt.legend()\n",
        "\n",
        "plt.show()"
      ],
      "metadata": {
        "colab": {
          "base_uri": "https://localhost:8080/",
          "height": 545
        },
        "id": "qCd0deRPIpaY",
        "outputId": "6b553150-8df4-4e73-a334-8d50ec928acd"
      },
      "execution_count": 14,
      "outputs": [
        {
          "output_type": "display_data",
          "data": {
            "text/plain": [
              "<Figure size 432x288 with 1 Axes>"
            ],
            "image/png": "[encoded data removed]"
          },
          "metadata": {
            "needs_background": "light"
          }
        },
        {
          "output_type": "display_data",
          "data": {
            "text/plain": [
              "<Figure size 432x288 with 1 Axes>"
            ],
            "image/png": "[encoded data removed]"
          },
          "metadata": {
            "needs_background": "light"
          }
        }
      ]
    }
  ]
}